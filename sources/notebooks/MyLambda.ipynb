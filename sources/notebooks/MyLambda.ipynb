{

 "cells": [
  {
   "cell_type": "code",
   "execution_count": 3,
   "metadata": {},
   "outputs": [],
   "source": [
    "#@LISTEN=/topic/AAA,/topic/BBB\n",
    "#@CALLBACK=lambda1_test\n",
    "def lambda1_test():\n",
    "    global es,global_message\n",
    "    print(\"test1\")\n",
    "    print(es.info())\n",
    "    print(global_message)\n",
    "def lambda1_test2():\n",
    "    print(\"test2\")\n",
    "    lambda1_test()\n",
    "    "
   ]
  },
  {
   "cell_type": "code",
   "execution_count": 4,
   "metadata": {},
   "outputs": [],
   "source": [
    "#@LISTEN=/topic/AAA\n",
    "#@CALLBACK=lambda2_test\n",
    "def lambda2_test():\n",
    "    global curconfig\n",
    "    print(\"test\")\n",
    "    print(curconfig)"
   ]
  },
  {
   "cell_type": "code",
   "execution_count": null,
   "metadata": {},
   "outputs": [],
   "source": []
  }
 ],
 "metadata": {
  "kernelspec": {
   "display_name": "Python 3",
   "language": "python",
   "name": "python3"
  },
  "language_info": {
   "codemirror_mode": {
    "name": "ipython",
    "version": 3
   },
   "file_extension": ".py",
   "mimetype": "text/x-python",
   "name": "python",
   "nbconvert_exporter": "python",
   "pygments_lexer": "ipython3",
   "version": "3.7.3"
  }
 },
 "nbformat": 4,
 "nbformat_minor": 2
}
