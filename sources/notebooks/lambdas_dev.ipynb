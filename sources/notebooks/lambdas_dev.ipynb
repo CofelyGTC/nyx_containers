{
 "cells": [
  {
   "cell_type": "code",
   "execution_count": 2,
   "metadata": {},
   "outputs": [],
   "source": [
    "source = ['#@LISTEN=/topic/AAA,/topic/BBB\\n', 'def lambda1_test():\\n', '    global es,global_message\\n', '    print(\"test1\")\\n', '    print(es.info())\\n', '    print(global_message)\\n', 'def lambda1_test2():\\n', '    print(\"test2\")\\n', '    lambda1_test()\\n', '    ']"
   ]
  },
  {
   "cell_type": "code",
   "execution_count": 5,
   "metadata": {},
   "outputs": [],
   "source": [
    "cell={}\n",
    "cell['source']=source"
   ]
  },
  {
   "cell_type": "code",
   "execution_count": 4,
   "metadata": {},
   "outputs": [
    {
     "name": "stdout",
     "output_type": "stream",
     "text": [
      "#@LISTEN=/topic/AAA,/topic/BBB\n",
      "\n",
      "\n",
      "def lambda1_test():\n",
      "\n",
      "    global es,global_message\n",
      "\n",
      "    print(\"test1\")\n",
      "\n",
      "    print(es.info())\n",
      "\n",
      "    print(global_message)\n",
      "\n",
      "def lambda1_test2():\n",
      "\n",
      "    print(\"test2\")\n",
      "\n",
      "    lambda1_test()\n",
      "\n",
      "    \n"
     ]
    }
   ],
   "source": [
    "if len(cell['source']) > 0 and \"#@LISTEN=\" in  cell['source']"
   ]
  },
  {
   "cell_type": "code",
   "execution_count": null,
   "metadata": {},
   "outputs": [],
   "source": [
    "test = 0\n",
    "\n",
    "\n",
    "\n",
    "\n",
    "\n",
    "\n",
    "\n",
    "def tamere():\n",
    "    print('taamer')"
   ]
  }
 ],
 "metadata": {
  "kernelspec": {
   "display_name": "Python 3",
   "language": "python",
   "name": "python3"
  },
  "language_info": {
   "codemirror_mode": {
    "name": "ipython",
    "version": 3
   },
   "file_extension": ".py",
   "mimetype": "text/x-python",
   "name": "python",
   "nbconvert_exporter": "python",
   "pygments_lexer": "ipython3",
   "version": "3.7.3"
  }
 },
 "nbformat": 4,
 "nbformat_minor": 2
}
